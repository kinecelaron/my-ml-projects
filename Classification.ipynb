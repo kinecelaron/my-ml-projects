{
 "cells": [
  {
   "cell_type": "code",
   "execution_count": 1,
   "id": "eda2b391-7b28-4e79-a530-7b5b0cce7689",
   "metadata": {},
   "outputs": [],
   "source": [
    "#Importing required packages.\n",
    "import pandas as pd\n",
    "import numpy as np\n",
    "import seaborn as sns\n",
    "import matplotlib.pyplot as plt\n",
    "from sklearn.ensemble import RandomForestClassifier\n",
    "from sklearn.svm import SVC\n",
    "#from sklearn.linear_model import SGDClassifier\n",
    "from sklearn.metrics import confusion_matrix, classification_report\n",
    "from sklearn.compose import ColumnTransformer\n",
    "from sklearn.preprocessing import StandardScaler, LabelEncoder\n",
    "from sklearn.model_selection import train_test_split\n",
    "from sklearn.neural_network import MLPClassifier\n",
    "from sklearn.neural_network import MLPRegressor\n",
    "%matplotlib inline"
   ]
  },
  {
   "cell_type": "code",
   "execution_count": 2,
   "id": "3df320cd-e522-45e8-80e1-c4b5ab099206",
   "metadata": {},
   "outputs": [],
   "source": [
    "Calo=pd.read_csv(\"C:/Users/Dmwin\\Downloads/Jupiter/datasets/activity_data.csv\")"
   ]
  },
  {
   "cell_type": "code",
   "execution_count": 3,
   "id": "0b32f960-1b98-46fe-9421-f6352c897b17",
   "metadata": {},
   "outputs": [
    {
     "data": {
      "text/html": [
       "<div>\n",
       "<style scoped>\n",
       "    .dataframe tbody tr th:only-of-type {\n",
       "        vertical-align: middle;\n",
       "    }\n",
       "\n",
       "    .dataframe tbody tr th {\n",
       "        vertical-align: top;\n",
       "    }\n",
       "\n",
       "    .dataframe thead th {\n",
       "        text-align: right;\n",
       "    }\n",
       "</style>\n",
       "<table border=\"1\" class=\"dataframe\">\n",
       "  <thead>\n",
       "    <tr style=\"text-align: right;\">\n",
       "      <th></th>\n",
       "      <th>Id</th>\n",
       "      <th>Date</th>\n",
       "      <th>TotalSteps</th>\n",
       "      <th>TotalDistance</th>\n",
       "      <th>SedentaryMinutes</th>\n",
       "      <th>TotalActiveMinutes</th>\n",
       "      <th>Calories</th>\n",
       "    </tr>\n",
       "  </thead>\n",
       "  <tbody>\n",
       "    <tr>\n",
       "      <th>0</th>\n",
       "      <td>6117666160</td>\n",
       "      <td>2016-04-21</td>\n",
       "      <td>19542</td>\n",
       "      <td>15.010000</td>\n",
       "      <td>579</td>\n",
       "      <td>324</td>\n",
       "      <td>4900</td>\n",
       "    </tr>\n",
       "    <tr>\n",
       "      <th>1</th>\n",
       "      <td>5577150313</td>\n",
       "      <td>2016-04-17</td>\n",
       "      <td>12231</td>\n",
       "      <td>9.140000</td>\n",
       "      <td>525</td>\n",
       "      <td>396</td>\n",
       "      <td>4552</td>\n",
       "    </tr>\n",
       "    <tr>\n",
       "      <th>2</th>\n",
       "      <td>8877689391</td>\n",
       "      <td>2016-04-16</td>\n",
       "      <td>29326</td>\n",
       "      <td>25.290001</td>\n",
       "      <td>888</td>\n",
       "      <td>552</td>\n",
       "      <td>4547</td>\n",
       "    </tr>\n",
       "    <tr>\n",
       "      <th>3</th>\n",
       "      <td>5577150313</td>\n",
       "      <td>2016-05-01</td>\n",
       "      <td>13368</td>\n",
       "      <td>9.990000</td>\n",
       "      <td>499</td>\n",
       "      <td>444</td>\n",
       "      <td>4546</td>\n",
       "    </tr>\n",
       "    <tr>\n",
       "      <th>4</th>\n",
       "      <td>5577150313</td>\n",
       "      <td>2016-04-30</td>\n",
       "      <td>12363</td>\n",
       "      <td>9.240000</td>\n",
       "      <td>621</td>\n",
       "      <td>415</td>\n",
       "      <td>4501</td>\n",
       "    </tr>\n",
       "  </tbody>\n",
       "</table>\n",
       "</div>"
      ],
      "text/plain": [
       "           Id        Date  TotalSteps  TotalDistance  SedentaryMinutes  \\\n",
       "0  6117666160  2016-04-21       19542      15.010000               579   \n",
       "1  5577150313  2016-04-17       12231       9.140000               525   \n",
       "2  8877689391  2016-04-16       29326      25.290001               888   \n",
       "3  5577150313  2016-05-01       13368       9.990000               499   \n",
       "4  5577150313  2016-04-30       12363       9.240000               621   \n",
       "\n",
       "   TotalActiveMinutes  Calories  \n",
       "0                 324      4900  \n",
       "1                 396      4552  \n",
       "2                 552      4547  \n",
       "3                 444      4546  \n",
       "4                 415      4501  "
      ]
     },
     "execution_count": 3,
     "metadata": {},
     "output_type": "execute_result"
    }
   ],
   "source": [
    "Calo.head()"
   ]
  },
  {
   "cell_type": "code",
   "execution_count": 4,
   "id": "cd70cd50-872a-4ce8-97e6-4ac62563f65c",
   "metadata": {},
   "outputs": [
    {
     "name": "stdout",
     "output_type": "stream",
     "text": [
      "<class 'pandas.core.frame.DataFrame'>\n",
      "RangeIndex: 940 entries, 0 to 939\n",
      "Data columns (total 7 columns):\n",
      " #   Column              Non-Null Count  Dtype  \n",
      "---  ------              --------------  -----  \n",
      " 0   Id                  940 non-null    int64  \n",
      " 1   Date                940 non-null    object \n",
      " 2   TotalSteps          940 non-null    int64  \n",
      " 3   TotalDistance       940 non-null    float64\n",
      " 4   SedentaryMinutes    940 non-null    int64  \n",
      " 5   TotalActiveMinutes  940 non-null    int64  \n",
      " 6   Calories            940 non-null    int64  \n",
      "dtypes: float64(1), int64(5), object(1)\n",
      "memory usage: 51.5+ KB\n"
     ]
    }
   ],
   "source": [
    "Calo.info()"
   ]
  },
  {
   "cell_type": "code",
   "execution_count": 5,
   "id": "6112f652-04cf-4be9-a1ae-72be355fa96c",
   "metadata": {},
   "outputs": [
    {
     "data": {
      "text/plain": [
       "Id                    0\n",
       "Date                  0\n",
       "TotalSteps            0\n",
       "TotalDistance         0\n",
       "SedentaryMinutes      0\n",
       "TotalActiveMinutes    0\n",
       "Calories              0\n",
       "dtype: int64"
      ]
     },
     "execution_count": 5,
     "metadata": {},
     "output_type": "execute_result"
    }
   ],
   "source": [
    "Calo.isnull().sum()"
   ]
  },
  {
   "cell_type": "code",
   "execution_count": 6,
   "id": "06b0249a-a3f2-4a02-bc42-bfa97ca42236",
   "metadata": {},
   "outputs": [
    {
     "data": {
      "text/plain": [
       "['over target', 'under target', NaN]\n",
       "Categories (2, object): ['under target' < 'over target']"
      ]
     },
     "execution_count": 6,
     "metadata": {},
     "output_type": "execute_result"
    }
   ],
   "source": [
    "bins = (2, 2000, 5000)\n",
    "group_names = ['under target','over target']\n",
    "Calo['Calories']= pd.cut(Calo['Calories'], bins=bins, labels=group_names)\n",
    "Calo['Calories'].unique()"
   ]
  },
  {
   "cell_type": "code",
   "execution_count": 7,
   "id": "9381b7e1-2310-4996-b7b5-686c3145df0f",
   "metadata": {},
   "outputs": [
    {
     "data": {
      "text/plain": [
       "Calories\n",
       "over target     571\n",
       "under target    365\n",
       "Name: count, dtype: int64"
      ]
     },
     "execution_count": 7,
     "metadata": {},
     "output_type": "execute_result"
    }
   ],
   "source": [
    "Calo['Calories'].value_counts()"
   ]
  },
  {
   "cell_type": "code",
   "execution_count": 8,
   "id": "7c95a8e6-78d5-405e-8fa9-b2ce33f966df",
   "metadata": {},
   "outputs": [],
   "source": [
    "label_Calories=LabelEncoder()"
   ]
  },
  {
   "cell_type": "code",
   "execution_count": 9,
   "id": "7d842914-e22f-4afe-9e45-1bf52ff328cc",
   "metadata": {},
   "outputs": [],
   "source": [
    "Calo['Calories']=label_Calories.fit_transform(Calo['Calories'])"
   ]
  },
  {
   "cell_type": "code",
   "execution_count": 10,
   "id": "89858e60-5c86-4008-a55d-1fdbdb1a0d2a",
   "metadata": {},
   "outputs": [
    {
     "data": {
      "text/plain": [
       "Calories\n",
       "0    571\n",
       "1    365\n",
       "2      4\n",
       "Name: count, dtype: int64"
      ]
     },
     "execution_count": 10,
     "metadata": {},
     "output_type": "execute_result"
    }
   ],
   "source": [
    "Calo['Calories'].value_counts()"
   ]
  },
  {
   "cell_type": "code",
   "execution_count": 11,
   "id": "8ac69886-a392-47ee-99ec-9e06931f0154",
   "metadata": {},
   "outputs": [
    {
     "data": {
      "text/html": [
       "<div>\n",
       "<style scoped>\n",
       "    .dataframe tbody tr th:only-of-type {\n",
       "        vertical-align: middle;\n",
       "    }\n",
       "\n",
       "    .dataframe tbody tr th {\n",
       "        vertical-align: top;\n",
       "    }\n",
       "\n",
       "    .dataframe thead th {\n",
       "        text-align: right;\n",
       "    }\n",
       "</style>\n",
       "<table border=\"1\" class=\"dataframe\">\n",
       "  <thead>\n",
       "    <tr style=\"text-align: right;\">\n",
       "      <th></th>\n",
       "      <th>Id</th>\n",
       "      <th>Date</th>\n",
       "      <th>TotalSteps</th>\n",
       "      <th>TotalDistance</th>\n",
       "      <th>SedentaryMinutes</th>\n",
       "      <th>TotalActiveMinutes</th>\n",
       "      <th>Calories</th>\n",
       "    </tr>\n",
       "  </thead>\n",
       "  <tbody>\n",
       "    <tr>\n",
       "      <th>935</th>\n",
       "      <td>3977333714</td>\n",
       "      <td>2016-05-11</td>\n",
       "      <td>746</td>\n",
       "      <td>0.5</td>\n",
       "      <td>13</td>\n",
       "      <td>13</td>\n",
       "      <td>1</td>\n",
       "    </tr>\n",
       "    <tr>\n",
       "      <th>936</th>\n",
       "      <td>1503960366</td>\n",
       "      <td>2016-05-12</td>\n",
       "      <td>0</td>\n",
       "      <td>0.0</td>\n",
       "      <td>1440</td>\n",
       "      <td>0</td>\n",
       "      <td>2</td>\n",
       "    </tr>\n",
       "    <tr>\n",
       "      <th>937</th>\n",
       "      <td>6290855005</td>\n",
       "      <td>2016-05-10</td>\n",
       "      <td>0</td>\n",
       "      <td>0.0</td>\n",
       "      <td>1440</td>\n",
       "      <td>0</td>\n",
       "      <td>2</td>\n",
       "    </tr>\n",
       "    <tr>\n",
       "      <th>938</th>\n",
       "      <td>8253242879</td>\n",
       "      <td>2016-04-30</td>\n",
       "      <td>0</td>\n",
       "      <td>0.0</td>\n",
       "      <td>1440</td>\n",
       "      <td>0</td>\n",
       "      <td>2</td>\n",
       "    </tr>\n",
       "    <tr>\n",
       "      <th>939</th>\n",
       "      <td>8583815059</td>\n",
       "      <td>2016-05-12</td>\n",
       "      <td>0</td>\n",
       "      <td>0.0</td>\n",
       "      <td>1440</td>\n",
       "      <td>0</td>\n",
       "      <td>2</td>\n",
       "    </tr>\n",
       "  </tbody>\n",
       "</table>\n",
       "</div>"
      ],
      "text/plain": [
       "             Id        Date  TotalSteps  TotalDistance  SedentaryMinutes  \\\n",
       "935  3977333714  2016-05-11         746            0.5                13   \n",
       "936  1503960366  2016-05-12           0            0.0              1440   \n",
       "937  6290855005  2016-05-10           0            0.0              1440   \n",
       "938  8253242879  2016-04-30           0            0.0              1440   \n",
       "939  8583815059  2016-05-12           0            0.0              1440   \n",
       "\n",
       "     TotalActiveMinutes  Calories  \n",
       "935                  13         1  \n",
       "936                   0         2  \n",
       "937                   0         2  \n",
       "938                   0         2  \n",
       "939                   0         2  "
      ]
     },
     "execution_count": 11,
     "metadata": {},
     "output_type": "execute_result"
    }
   ],
   "source": [
    "Calo.tail()"
   ]
  },
  {
   "cell_type": "code",
   "execution_count": 12,
   "id": "436071f1-0bd0-486e-9f36-6a063065c9aa",
   "metadata": {},
   "outputs": [
    {
     "data": {
      "text/plain": [
       "<Axes: xlabel='Calories', ylabel='count'>"
      ]
     },
     "execution_count": 12,
     "metadata": {},
     "output_type": "execute_result"
    },
    {
     "data": {
      "image/png": "[encoded data removed]",
      "text/plain": [
       "<Figure size 640x480 with 1 Axes>"
      ]
     },
     "metadata": {},
     "output_type": "display_data"
    }
   ],
   "source": [
    "df=pd.DataFrame({'Calories': Calo['Calories']})\n",
    "sns.countplot(data=df, x='Calories')"
   ]
  },
  {
   "cell_type": "code",
   "execution_count": 13,
   "id": "fae1c29d-fb0c-4978-ac54-8f936fa75134",
   "metadata": {},
   "outputs": [],
   "source": [
    "data=['TotalSteps','TotalDistance','SedentaryMinutes', 'TotalActiveMinutes']"
   ]
  },
  {
   "cell_type": "code",
   "execution_count": 14,
   "id": "155a4208-1f71-42ea-9727-dd2129bbc62f",
   "metadata": {},
   "outputs": [],
   "source": [
    "X = Calo[data]\n",
    "y = Calo['Calories']"
   ]
  },
  {
   "cell_type": "code",
   "execution_count": 15,
   "id": "6039be79-0cfa-43c1-b986-2831be26ab03",
   "metadata": {},
   "outputs": [],
   "source": [
    "X_train, X_test, y_train, y_test = train_test_split(X, y, test_size = 0.2, random_state = 42)"
   ]
  },
  {
   "cell_type": "code",
   "execution_count": 16,
   "id": "909a28ce-51e9-4aee-bf4a-facccda6a129",
   "metadata": {},
   "outputs": [],
   "source": [
    "sc = StandardScaler()"
   ]
  },
  {
   "cell_type": "code",
   "execution_count": 17,
   "id": "7485afa1-1b13-41b6-bff7-7bd21f051728",
   "metadata": {},
   "outputs": [],
   "source": [
    "X_train=sc.fit_transform(X_train)\n",
    "X_test=sc.fit_transform(X_test)"
   ]
  },
  {
   "cell_type": "markdown",
   "id": "269ce343-a0b7-4cc9-8d57-655defe6edfa",
   "metadata": {},
   "source": [
    "Random forest classifier"
   ]
  },
  {
   "cell_type": "code",
   "execution_count": 18,
   "id": "e902a72e-f38b-4e2e-b797-443cc65774cf",
   "metadata": {},
   "outputs": [],
   "source": [
    "rfc = RandomForestClassifier(n_estimators=200)\n",
    "rfc.fit(X_train, y_train)\n",
    "pred_rfc = rfc.predict(X_test)"
   ]
  },
  {
   "cell_type": "code",
   "execution_count": 19,
   "id": "c7245680-a952-4e06-9ac2-7a0da71bce5b",
   "metadata": {},
   "outputs": [
    {
     "name": "stdout",
     "output_type": "stream",
     "text": [
      "              precision    recall  f1-score   support\n",
      "\n",
      "           0       0.83      0.79      0.81       121\n",
      "           1       0.64      0.70      0.67        67\n",
      "\n",
      "    accuracy                           0.76       188\n",
      "   macro avg       0.73      0.74      0.74       188\n",
      "weighted avg       0.76      0.76      0.76       188\n",
      "\n"
     ]
    }
   ],
   "source": [
    "print(classification_report(y_test, pred_rfc))"
   ]
  },
  {
   "cell_type": "markdown",
   "id": "ff8f5416-fbf2-4be1-b675-0c1313d4e6a9",
   "metadata": {},
   "source": [
    "SVM Classifier"
   ]
  },
  {
   "cell_type": "code",
   "execution_count": 20,
   "id": "855d9ec2-c2ba-4c49-9588-0414a8f2a13c",
   "metadata": {},
   "outputs": [],
   "source": [
    "clf=SVC()\n",
    "clf.fit(X_train, y_train)\n",
    "pred_clf = clf.predict(X_test)"
   ]
  },
  {
   "cell_type": "code",
   "execution_count": 21,
   "id": "9c0b9196-ba76-422e-887c-fc0a23cddf3b",
   "metadata": {},
   "outputs": [
    {
     "name": "stdout",
     "output_type": "stream",
     "text": [
      "              precision    recall  f1-score   support\n",
      "\n",
      "           0       0.80      0.76      0.78       121\n",
      "           1       0.60      0.66      0.63        67\n",
      "\n",
      "    accuracy                           0.72       188\n",
      "   macro avg       0.70      0.71      0.70       188\n",
      "weighted avg       0.73      0.72      0.73       188\n",
      "\n"
     ]
    }
   ],
   "source": [
    "print(classification_report(y_test, pred_clf))"
   ]
  },
  {
   "cell_type": "markdown",
   "id": "43bb8fbd-fb89-413d-8d13-5827c911b965",
   "metadata": {},
   "source": [
    "Neural Network"
   ]
  },
  {
   "cell_type": "code",
   "execution_count": 22,
   "id": "2a7cca19-8c53-48d9-8284-c188fd0936d5",
   "metadata": {},
   "outputs": [],
   "source": [
    "mlpc=MLPClassifier(hidden_layer_sizes=(11,11,11),max_iter=1500)\n",
    "mlpc.fit(X_train,y_train)\n",
    "pred_mlpc=mlpc.predict(X_test)"
   ]
  },
  {
   "cell_type": "code",
   "execution_count": 23,
   "id": "a8bff49a-8849-471e-b777-e83bfd9b18b7",
   "metadata": {},
   "outputs": [
    {
     "name": "stdout",
     "output_type": "stream",
     "text": [
      "              precision    recall  f1-score   support\n",
      "\n",
      "           0       0.85      0.79      0.82       121\n",
      "           1       0.67      0.75      0.70        67\n",
      "\n",
      "    accuracy                           0.78       188\n",
      "   macro avg       0.76      0.77      0.76       188\n",
      "weighted avg       0.78      0.78      0.78       188\n",
      "\n",
      "[[96 25]\n",
      " [17 50]]\n"
     ]
    }
   ],
   "source": [
    "print(classification_report(y_test, pred_mlpc))\n",
    "print(confusion_matrix(y_test, pred_mlpc))"
   ]
  },
  {
   "cell_type": "code",
   "execution_count": 24,
   "id": "622910e0-bef1-4916-8bd3-135f9ceb6419",
   "metadata": {},
   "outputs": [
    {
     "name": "stdout",
     "output_type": "stream",
     "text": [
      "[1]\n"
     ]
    }
   ],
   "source": [
    "Xnew=[[1200,1, 20, 40]]\n",
    "ynew=mlpc.predict(Xnew)\n",
    "\n",
    "print(ynew)"
   ]
  },
  {
   "cell_type": "code",
   "execution_count": null,
   "id": "a76df5cd-5a98-459e-b2f4-c195894381e3",
   "metadata": {},
   "outputs": [],
   "source": []
  }
 ],
 "metadata": {
  "kernelspec": {
   "display_name": "Python 3 (ipykernel)",
   "language": "python",
   "name": "python3"
  },
  "language_info": {
   "codemirror_mode": {
    "name": "ipython",
    "version": 3
   },
   "file_extension": ".py",
   "mimetype": "text/x-python",
   "name": "python",
   "nbconvert_exporter": "python",
   "pygments_lexer": "ipython3",
   "version": "3.11.7"
  }
 },
 "nbformat": 4,
 "nbformat_minor": 5
}
